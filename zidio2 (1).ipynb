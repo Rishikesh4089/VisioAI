{
  "nbformat": 4,
  "nbformat_minor": 0,
  "metadata": {
    "colab": {
      "provenance": []
    },
    "kernelspec": {
      "name": "python3",
      "display_name": "Python 3"
    },
    "language_info": {
      "name": "python"
    }
  },
  "cells": [
    {
      "cell_type": "markdown",
      "source": [
        " **Install & Setup Kaggle API**\n"
      ],
      "metadata": {
        "id": "-fgfucxIGGjK"
      }
    },
    {
      "cell_type": "code",
      "execution_count": 1,
      "metadata": {
        "colab": {
          "base_uri": "https://localhost:8080/",
          "height": 73
        },
        "id": "2UZjUrPH_ouo",
        "outputId": "1408d895-546b-486f-d466-c3dd7b3ec85a"
      },
      "outputs": [
        {
          "output_type": "display_data",
          "data": {
            "text/plain": [
              "<IPython.core.display.HTML object>"
            ],
            "text/html": [
              "\n",
              "     <input type=\"file\" id=\"files-e4098986-b0b3-42f2-a88f-613fe2e2c187\" name=\"files[]\" multiple disabled\n",
              "        style=\"border:none\" />\n",
              "     <output id=\"result-e4098986-b0b3-42f2-a88f-613fe2e2c187\">\n",
              "      Upload widget is only available when the cell has been executed in the\n",
              "      current browser session. Please rerun this cell to enable.\n",
              "      </output>\n",
              "      <script>// Copyright 2017 Google LLC\n",
              "//\n",
              "// Licensed under the Apache License, Version 2.0 (the \"License\");\n",
              "// you may not use this file except in compliance with the License.\n",
              "// You may obtain a copy of the License at\n",
              "//\n",
              "//      http://www.apache.org/licenses/LICENSE-2.0\n",
              "//\n",
              "// Unless required by applicable law or agreed to in writing, software\n",
              "// distributed under the License is distributed on an \"AS IS\" BASIS,\n",
              "// WITHOUT WARRANTIES OR CONDITIONS OF ANY KIND, either express or implied.\n",
              "// See the License for the specific language governing permissions and\n",
              "// limitations under the License.\n",
              "\n",
              "/**\n",
              " * @fileoverview Helpers for google.colab Python module.\n",
              " */\n",
              "(function(scope) {\n",
              "function span(text, styleAttributes = {}) {\n",
              "  const element = document.createElement('span');\n",
              "  element.textContent = text;\n",
              "  for (const key of Object.keys(styleAttributes)) {\n",
              "    element.style[key] = styleAttributes[key];\n",
              "  }\n",
              "  return element;\n",
              "}\n",
              "\n",
              "// Max number of bytes which will be uploaded at a time.\n",
              "const MAX_PAYLOAD_SIZE = 100 * 1024;\n",
              "\n",
              "function _uploadFiles(inputId, outputId) {\n",
              "  const steps = uploadFilesStep(inputId, outputId);\n",
              "  const outputElement = document.getElementById(outputId);\n",
              "  // Cache steps on the outputElement to make it available for the next call\n",
              "  // to uploadFilesContinue from Python.\n",
              "  outputElement.steps = steps;\n",
              "\n",
              "  return _uploadFilesContinue(outputId);\n",
              "}\n",
              "\n",
              "// This is roughly an async generator (not supported in the browser yet),\n",
              "// where there are multiple asynchronous steps and the Python side is going\n",
              "// to poll for completion of each step.\n",
              "// This uses a Promise to block the python side on completion of each step,\n",
              "// then passes the result of the previous step as the input to the next step.\n",
              "function _uploadFilesContinue(outputId) {\n",
              "  const outputElement = document.getElementById(outputId);\n",
              "  const steps = outputElement.steps;\n",
              "\n",
              "  const next = steps.next(outputElement.lastPromiseValue);\n",
              "  return Promise.resolve(next.value.promise).then((value) => {\n",
              "    // Cache the last promise value to make it available to the next\n",
              "    // step of the generator.\n",
              "    outputElement.lastPromiseValue = value;\n",
              "    return next.value.response;\n",
              "  });\n",
              "}\n",
              "\n",
              "/**\n",
              " * Generator function which is called between each async step of the upload\n",
              " * process.\n",
              " * @param {string} inputId Element ID of the input file picker element.\n",
              " * @param {string} outputId Element ID of the output display.\n",
              " * @return {!Iterable<!Object>} Iterable of next steps.\n",
              " */\n",
              "function* uploadFilesStep(inputId, outputId) {\n",
              "  const inputElement = document.getElementById(inputId);\n",
              "  inputElement.disabled = false;\n",
              "\n",
              "  const outputElement = document.getElementById(outputId);\n",
              "  outputElement.innerHTML = '';\n",
              "\n",
              "  const pickedPromise = new Promise((resolve) => {\n",
              "    inputElement.addEventListener('change', (e) => {\n",
              "      resolve(e.target.files);\n",
              "    });\n",
              "  });\n",
              "\n",
              "  const cancel = document.createElement('button');\n",
              "  inputElement.parentElement.appendChild(cancel);\n",
              "  cancel.textContent = 'Cancel upload';\n",
              "  const cancelPromise = new Promise((resolve) => {\n",
              "    cancel.onclick = () => {\n",
              "      resolve(null);\n",
              "    };\n",
              "  });\n",
              "\n",
              "  // Wait for the user to pick the files.\n",
              "  const files = yield {\n",
              "    promise: Promise.race([pickedPromise, cancelPromise]),\n",
              "    response: {\n",
              "      action: 'starting',\n",
              "    }\n",
              "  };\n",
              "\n",
              "  cancel.remove();\n",
              "\n",
              "  // Disable the input element since further picks are not allowed.\n",
              "  inputElement.disabled = true;\n",
              "\n",
              "  if (!files) {\n",
              "    return {\n",
              "      response: {\n",
              "        action: 'complete',\n",
              "      }\n",
              "    };\n",
              "  }\n",
              "\n",
              "  for (const file of files) {\n",
              "    const li = document.createElement('li');\n",
              "    li.append(span(file.name, {fontWeight: 'bold'}));\n",
              "    li.append(span(\n",
              "        `(${file.type || 'n/a'}) - ${file.size} bytes, ` +\n",
              "        `last modified: ${\n",
              "            file.lastModifiedDate ? file.lastModifiedDate.toLocaleDateString() :\n",
              "                                    'n/a'} - `));\n",
              "    const percent = span('0% done');\n",
              "    li.appendChild(percent);\n",
              "\n",
              "    outputElement.appendChild(li);\n",
              "\n",
              "    const fileDataPromise = new Promise((resolve) => {\n",
              "      const reader = new FileReader();\n",
              "      reader.onload = (e) => {\n",
              "        resolve(e.target.result);\n",
              "      };\n",
              "      reader.readAsArrayBuffer(file);\n",
              "    });\n",
              "    // Wait for the data to be ready.\n",
              "    let fileData = yield {\n",
              "      promise: fileDataPromise,\n",
              "      response: {\n",
              "        action: 'continue',\n",
              "      }\n",
              "    };\n",
              "\n",
              "    // Use a chunked sending to avoid message size limits. See b/62115660.\n",
              "    let position = 0;\n",
              "    do {\n",
              "      const length = Math.min(fileData.byteLength - position, MAX_PAYLOAD_SIZE);\n",
              "      const chunk = new Uint8Array(fileData, position, length);\n",
              "      position += length;\n",
              "\n",
              "      const base64 = btoa(String.fromCharCode.apply(null, chunk));\n",
              "      yield {\n",
              "        response: {\n",
              "          action: 'append',\n",
              "          file: file.name,\n",
              "          data: base64,\n",
              "        },\n",
              "      };\n",
              "\n",
              "      let percentDone = fileData.byteLength === 0 ?\n",
              "          100 :\n",
              "          Math.round((position / fileData.byteLength) * 100);\n",
              "      percent.textContent = `${percentDone}% done`;\n",
              "\n",
              "    } while (position < fileData.byteLength);\n",
              "  }\n",
              "\n",
              "  // All done.\n",
              "  yield {\n",
              "    response: {\n",
              "      action: 'complete',\n",
              "    }\n",
              "  };\n",
              "}\n",
              "\n",
              "scope.google = scope.google || {};\n",
              "scope.google.colab = scope.google.colab || {};\n",
              "scope.google.colab._files = {\n",
              "  _uploadFiles,\n",
              "  _uploadFilesContinue,\n",
              "};\n",
              "})(self);\n",
              "</script> "
            ]
          },
          "metadata": {}
        },
        {
          "output_type": "stream",
          "name": "stdout",
          "text": [
            "Saving kaggle.json to kaggle.json\n"
          ]
        }
      ],
      "source": [
        "# Upload your kaggle.json file first (API key from Kaggle account)\n",
        "from google.colab import files\n",
        "files.upload()  # Upload kaggle.json here\n",
        "\n",
        "# Move and set permissions\n",
        "!mkdir -p ~/.kaggle\n",
        "!cp kaggle.json ~/.kaggle/\n",
        "!chmod 600 ~/.kaggle/kaggle.json\n"
      ]
    },
    {
      "cell_type": "markdown",
      "source": [
        "**Download Pascal VOC 2012 Dataset**\n",
        "\n"
      ],
      "metadata": {
        "id": "lxhkfb0HGMnQ"
      }
    },
    {
      "cell_type": "code",
      "source": [
        "# Install kaggle CLI if not already installed\n",
        "!pip install -q kaggle\n",
        "\n",
        "# Download the dataset\n",
        "!kaggle datasets download -d gopalbhattrai/pascal-voc-2012-dataset\n"
      ],
      "metadata": {
        "colab": {
          "base_uri": "https://localhost:8080/"
        },
        "id": "wCj2mxDoGEGJ",
        "outputId": "2b3b1a03-7385-460a-b9b4-88f5f454d16a"
      },
      "execution_count": 2,
      "outputs": [
        {
          "output_type": "stream",
          "name": "stdout",
          "text": [
            "Dataset URL: https://www.kaggle.com/datasets/gopalbhattrai/pascal-voc-2012-dataset\n",
            "License(s): unknown\n",
            "Downloading pascal-voc-2012-dataset.zip to /content\n",
            "100% 3.52G/3.52G [00:35<00:00, 113MB/s] \n",
            "100% 3.52G/3.52G [00:35<00:00, 106MB/s]\n"
          ]
        }
      ]
    },
    {
      "cell_type": "markdown",
      "source": [
        "**Unzip the Dataset**\n"
      ],
      "metadata": {
        "id": "VHSDzlL1GrQY"
      }
    },
    {
      "cell_type": "code",
      "source": [
        "# Unzip the downloaded file\n",
        "import zipfile\n",
        "\n",
        "with zipfile.ZipFile(\"pascal-voc-2012-dataset.zip\", \"r\") as zip_ref:\n",
        "    zip_ref.extractall(\"voc_dataset\")\n"
      ],
      "metadata": {
        "id": "T1XbH3fPGtsA"
      },
      "execution_count": 3,
      "outputs": []
    },
    {
      "cell_type": "markdown",
      "source": [
        "**Importing datset from kaggle**"
      ],
      "metadata": {
        "id": "b5DtfmLZPys2"
      }
    },
    {
      "cell_type": "code",
      "source": [
        "!pip install kagglehub --quiet\n",
        "\n",
        "import kagglehub\n",
        "import os\n",
        "import shutil\n"
      ],
      "metadata": {
        "id": "rMxppE82Hryq"
      },
      "execution_count": 5,
      "outputs": []
    },
    {
      "cell_type": "markdown",
      "source": [
        "**Downloading Dataset**\n"
      ],
      "metadata": {
        "id": "kzetZUb8P2EA"
      }
    },
    {
      "cell_type": "code",
      "source": [
        "# Download the dataset\n",
        "dataset_path = kagglehub.dataset_download(\"gopalbhattrai/pascal-voc-2012-dataset\")\n",
        "print(\"📁 Dataset downloaded to:\", dataset_path)\n",
        "\n",
        "# Explore folder names to find image location\n",
        "for root, dirs, files in os.walk(dataset_path):\n",
        "    print(\"🔎\", root)\n"
      ],
      "metadata": {
        "colab": {
          "base_uri": "https://localhost:8080/"
        },
        "id": "3powNiIRH95v",
        "outputId": "ab7b8d43-71cd-409f-f01d-0154431adeee"
      },
      "execution_count": 6,
      "outputs": [
        {
          "output_type": "stream",
          "name": "stdout",
          "text": [
            "Downloading from https://www.kaggle.com/api/v1/datasets/download/gopalbhattrai/pascal-voc-2012-dataset?dataset_version_number=1...\n"
          ]
        },
        {
          "output_type": "stream",
          "name": "stderr",
          "text": [
            "100%|██████████| 3.52G/3.52G [01:29<00:00, 42.2MB/s]"
          ]
        },
        {
          "output_type": "stream",
          "name": "stdout",
          "text": [
            "Extracting files...\n"
          ]
        },
        {
          "output_type": "stream",
          "name": "stderr",
          "text": [
            "\n"
          ]
        },
        {
          "output_type": "stream",
          "name": "stdout",
          "text": [
            "📁 Dataset downloaded to: /root/.cache/kagglehub/datasets/gopalbhattrai/pascal-voc-2012-dataset/versions/1\n",
            "🔎 /root/.cache/kagglehub/datasets/gopalbhattrai/pascal-voc-2012-dataset/versions/1\n",
            "🔎 /root/.cache/kagglehub/datasets/gopalbhattrai/pascal-voc-2012-dataset/versions/1/VOC2012_test\n",
            "🔎 /root/.cache/kagglehub/datasets/gopalbhattrai/pascal-voc-2012-dataset/versions/1/VOC2012_test/VOC2012_test\n",
            "🔎 /root/.cache/kagglehub/datasets/gopalbhattrai/pascal-voc-2012-dataset/versions/1/VOC2012_test/VOC2012_test/Annotations\n",
            "🔎 /root/.cache/kagglehub/datasets/gopalbhattrai/pascal-voc-2012-dataset/versions/1/VOC2012_test/VOC2012_test/ImageSets\n",
            "🔎 /root/.cache/kagglehub/datasets/gopalbhattrai/pascal-voc-2012-dataset/versions/1/VOC2012_test/VOC2012_test/ImageSets/Segmentation\n",
            "🔎 /root/.cache/kagglehub/datasets/gopalbhattrai/pascal-voc-2012-dataset/versions/1/VOC2012_test/VOC2012_test/ImageSets/Main\n",
            "🔎 /root/.cache/kagglehub/datasets/gopalbhattrai/pascal-voc-2012-dataset/versions/1/VOC2012_test/VOC2012_test/ImageSets/Layout\n",
            "🔎 /root/.cache/kagglehub/datasets/gopalbhattrai/pascal-voc-2012-dataset/versions/1/VOC2012_test/VOC2012_test/ImageSets/Action\n",
            "🔎 /root/.cache/kagglehub/datasets/gopalbhattrai/pascal-voc-2012-dataset/versions/1/VOC2012_test/VOC2012_test/JPEGImages\n",
            "🔎 /root/.cache/kagglehub/datasets/gopalbhattrai/pascal-voc-2012-dataset/versions/1/VOC2012_train_val\n",
            "🔎 /root/.cache/kagglehub/datasets/gopalbhattrai/pascal-voc-2012-dataset/versions/1/VOC2012_train_val/VOC2012_train_val\n",
            "🔎 /root/.cache/kagglehub/datasets/gopalbhattrai/pascal-voc-2012-dataset/versions/1/VOC2012_train_val/VOC2012_train_val/Annotations\n",
            "🔎 /root/.cache/kagglehub/datasets/gopalbhattrai/pascal-voc-2012-dataset/versions/1/VOC2012_train_val/VOC2012_train_val/SegmentationObject\n",
            "🔎 /root/.cache/kagglehub/datasets/gopalbhattrai/pascal-voc-2012-dataset/versions/1/VOC2012_train_val/VOC2012_train_val/SegmentationClass\n",
            "🔎 /root/.cache/kagglehub/datasets/gopalbhattrai/pascal-voc-2012-dataset/versions/1/VOC2012_train_val/VOC2012_train_val/ImageSets\n",
            "🔎 /root/.cache/kagglehub/datasets/gopalbhattrai/pascal-voc-2012-dataset/versions/1/VOC2012_train_val/VOC2012_train_val/ImageSets/Segmentation\n",
            "🔎 /root/.cache/kagglehub/datasets/gopalbhattrai/pascal-voc-2012-dataset/versions/1/VOC2012_train_val/VOC2012_train_val/ImageSets/Main\n",
            "🔎 /root/.cache/kagglehub/datasets/gopalbhattrai/pascal-voc-2012-dataset/versions/1/VOC2012_train_val/VOC2012_train_val/ImageSets/Layout\n",
            "🔎 /root/.cache/kagglehub/datasets/gopalbhattrai/pascal-voc-2012-dataset/versions/1/VOC2012_train_val/VOC2012_train_val/ImageSets/Action\n",
            "🔎 /root/.cache/kagglehub/datasets/gopalbhattrai/pascal-voc-2012-dataset/versions/1/VOC2012_train_val/VOC2012_train_val/JPEGImages\n"
          ]
        }
      ]
    },
    {
      "cell_type": "markdown",
      "source": [
        "**Splitting DataSet**\n"
      ],
      "metadata": {
        "id": "lwUTb-EdQEdF"
      }
    },
    {
      "cell_type": "code",
      "source": [
        "import os\n",
        "import shutil\n",
        "\n",
        "# Define image directory\n",
        "image_dir = \"/root/.cache/kagglehub/datasets/gopalbhattrai/pascal-voc-2012-dataset/versions/1/VOC2012_train_val/VOC2012_train_val/JPEGImages\"\n",
        "\n",
        "# Output folders for Udhaya and Siddharth\n",
        "output_dir = \"/content/voc_split\"\n",
        "udhaya_dir = os.path.join(output_dir, \"udhaya\")\n",
        "siddharth_dir = os.path.join(output_dir, \"siddharth\")\n",
        "\n",
        "os.makedirs(udhaya_dir, exist_ok=True)\n",
        "os.makedirs(siddharth_dir, exist_ok=True)\n",
        "\n",
        "# Collect first 1000 images\n",
        "all_images = sorted([f for f in os.listdir(image_dir) if f.lower().endswith(('.jpg', '.jpeg', '.png'))])[:1000]\n",
        "\n",
        "# Copy 500 each\n",
        "for idx, fname in enumerate(all_images):\n",
        "    src = os.path.join(image_dir, fname)\n",
        "    dst = os.path.join(udhaya_dir if idx < 500 else siddharth_dir, fname)\n",
        "    shutil.copy(src, dst)\n",
        "\n",
        "print(\"✅ Done: 500 images each copied for Udhaya and Siddharth.\")\n"
      ],
      "metadata": {
        "colab": {
          "base_uri": "https://localhost:8080/"
        },
        "id": "aR_Um4TBI-yx",
        "outputId": "b40780fa-4e82-4134-caa6-9a43e1c84af5"
      },
      "execution_count": 7,
      "outputs": [
        {
          "output_type": "stream",
          "name": "stdout",
          "text": [
            "✅ Done: 500 images each copied for Udhaya and Siddharth.\n"
          ]
        }
      ]
    },
    {
      "cell_type": "markdown",
      "source": [
        "**Downloading Individual DataSet**"
      ],
      "metadata": {
        "id": "iUH83zy5QMhP"
      }
    },
    {
      "cell_type": "code",
      "source": [
        "import zipfile\n",
        "\n",
        "# Zip Udhaya's folder\n",
        "udhaya_zip = \"/content/udhaya_images.zip\"\n",
        "with zipfile.ZipFile(udhaya_zip, 'w') as zipf:\n",
        "    for root, _, files in os.walk(udhaya_dir):\n",
        "        for file in files:\n",
        "            file_path = os.path.join(root, file)\n",
        "            zipf.write(file_path, arcname=os.path.relpath(file_path, udhaya_dir))\n",
        "\n",
        "# Zip Siddharth's folder\n",
        "siddharth_zip = \"/content/siddharth_images.zip\"\n",
        "with zipfile.ZipFile(siddharth_zip, 'w') as zipf:\n",
        "    for root, _, files in os.walk(siddharth_dir):\n",
        "        for file in files:\n",
        "            file_path = os.path.join(root, file)\n",
        "            zipf.write(file_path, arcname=os.path.relpath(file_path, siddharth_dir))\n",
        "\n",
        "print(\"✅ Zipping complete. Ready for download.\")\n"
      ],
      "metadata": {
        "colab": {
          "base_uri": "https://localhost:8080/"
        },
        "id": "ePBX89ikJMPF",
        "outputId": "e24fadec-0bff-4fce-bfe8-cc668ce3e310"
      },
      "execution_count": 8,
      "outputs": [
        {
          "output_type": "stream",
          "name": "stdout",
          "text": [
            "✅ Zipping complete. Ready for download.\n"
          ]
        }
      ]
    },
    {
      "cell_type": "markdown",
      "source": [
        "**Downloading and Saving the file in Local System**"
      ],
      "metadata": {
        "id": "kNY6WAprQR3c"
      }
    },
    {
      "cell_type": "code",
      "source": [
        "from google.colab import files\n",
        "\n",
        "# Download the zip files\n",
        "files.download(\"/content/udhaya_images.zip\")\n",
        "files.download(\"/content/siddharth_images.zip\")\n"
      ],
      "metadata": {
        "colab": {
          "base_uri": "https://localhost:8080/",
          "height": 17
        },
        "id": "t1kg3rtQJZFx",
        "outputId": "739df51a-1615-42b6-efb4-17487d554010"
      },
      "execution_count": 9,
      "outputs": [
        {
          "output_type": "display_data",
          "data": {
            "text/plain": [
              "<IPython.core.display.Javascript object>"
            ],
            "application/javascript": [
              "\n",
              "    async function download(id, filename, size) {\n",
              "      if (!google.colab.kernel.accessAllowed) {\n",
              "        return;\n",
              "      }\n",
              "      const div = document.createElement('div');\n",
              "      const label = document.createElement('label');\n",
              "      label.textContent = `Downloading \"${filename}\": `;\n",
              "      div.appendChild(label);\n",
              "      const progress = document.createElement('progress');\n",
              "      progress.max = size;\n",
              "      div.appendChild(progress);\n",
              "      document.body.appendChild(div);\n",
              "\n",
              "      const buffers = [];\n",
              "      let downloaded = 0;\n",
              "\n",
              "      const channel = await google.colab.kernel.comms.open(id);\n",
              "      // Send a message to notify the kernel that we're ready.\n",
              "      channel.send({})\n",
              "\n",
              "      for await (const message of channel.messages) {\n",
              "        // Send a message to notify the kernel that we're ready.\n",
              "        channel.send({})\n",
              "        if (message.buffers) {\n",
              "          for (const buffer of message.buffers) {\n",
              "            buffers.push(buffer);\n",
              "            downloaded += buffer.byteLength;\n",
              "            progress.value = downloaded;\n",
              "          }\n",
              "        }\n",
              "      }\n",
              "      const blob = new Blob(buffers, {type: 'application/binary'});\n",
              "      const a = document.createElement('a');\n",
              "      a.href = window.URL.createObjectURL(blob);\n",
              "      a.download = filename;\n",
              "      div.appendChild(a);\n",
              "      a.click();\n",
              "      div.remove();\n",
              "    }\n",
              "  "
            ]
          },
          "metadata": {}
        },
        {
          "output_type": "display_data",
          "data": {
            "text/plain": [
              "<IPython.core.display.Javascript object>"
            ],
            "application/javascript": [
              "download(\"download_8e08752e-8045-4ad0-afdb-68b77c3a8c3f\", \"udhaya_images.zip\", 44950878)"
            ]
          },
          "metadata": {}
        },
        {
          "output_type": "display_data",
          "data": {
            "text/plain": [
              "<IPython.core.display.Javascript object>"
            ],
            "application/javascript": [
              "\n",
              "    async function download(id, filename, size) {\n",
              "      if (!google.colab.kernel.accessAllowed) {\n",
              "        return;\n",
              "      }\n",
              "      const div = document.createElement('div');\n",
              "      const label = document.createElement('label');\n",
              "      label.textContent = `Downloading \"${filename}\": `;\n",
              "      div.appendChild(label);\n",
              "      const progress = document.createElement('progress');\n",
              "      progress.max = size;\n",
              "      div.appendChild(progress);\n",
              "      document.body.appendChild(div);\n",
              "\n",
              "      const buffers = [];\n",
              "      let downloaded = 0;\n",
              "\n",
              "      const channel = await google.colab.kernel.comms.open(id);\n",
              "      // Send a message to notify the kernel that we're ready.\n",
              "      channel.send({})\n",
              "\n",
              "      for await (const message of channel.messages) {\n",
              "        // Send a message to notify the kernel that we're ready.\n",
              "        channel.send({})\n",
              "        if (message.buffers) {\n",
              "          for (const buffer of message.buffers) {\n",
              "            buffers.push(buffer);\n",
              "            downloaded += buffer.byteLength;\n",
              "            progress.value = downloaded;\n",
              "          }\n",
              "        }\n",
              "      }\n",
              "      const blob = new Blob(buffers, {type: 'application/binary'});\n",
              "      const a = document.createElement('a');\n",
              "      a.href = window.URL.createObjectURL(blob);\n",
              "      a.download = filename;\n",
              "      div.appendChild(a);\n",
              "      a.click();\n",
              "      div.remove();\n",
              "    }\n",
              "  "
            ]
          },
          "metadata": {}
        },
        {
          "output_type": "display_data",
          "data": {
            "text/plain": [
              "<IPython.core.display.Javascript object>"
            ],
            "application/javascript": [
              "download(\"download_65731e3b-48d0-4b31-96e7-0bbf225b2884\", \"siddharth_images.zip\", 49181795)"
            ]
          },
          "metadata": {}
        }
      ]
    },
    {
      "cell_type": "markdown",
      "source": [
        "**Unzipping Images**\n"
      ],
      "metadata": {
        "id": "qT7VbdS7SErU"
      }
    },
    {
      "cell_type": "code",
      "source": [
        "import zipfile\n",
        "import os\n",
        "\n",
        "# Define paths\n",
        "zip_path = \"/content/udhaya_images.zip\"  # Adjust path if your file is elsewhere\n",
        "extract_to = \"/content/udhaya_images\"\n",
        "\n",
        "# Unzip\n",
        "with zipfile.ZipFile(zip_path, 'r') as zip_ref:\n",
        "    zip_ref.extractall(extract_to)\n",
        "\n",
        "print(\"✅ Unzipped images to:\", extract_to)\n"
      ],
      "metadata": {
        "colab": {
          "base_uri": "https://localhost:8080/"
        },
        "id": "7dsabAb6SHH1",
        "outputId": "7e1c964e-145f-449f-e64b-8c45fb4f0f8e"
      },
      "execution_count": 10,
      "outputs": [
        {
          "output_type": "stream",
          "name": "stdout",
          "text": [
            "✅ Unzipped images to: /content/udhaya_images\n"
          ]
        }
      ]
    },
    {
      "cell_type": "markdown",
      "source": [
        "**Image Format Normalization**\n"
      ],
      "metadata": {
        "id": "e7ZfLeBxSL3S"
      }
    },
    {
      "cell_type": "code",
      "source": [
        "from PIL import Image\n",
        "\n",
        "image_folder = extract_to  # folder from step 1\n",
        "\n",
        "for fname in os.listdir(image_folder):\n",
        "    if fname.lower().endswith(('.jpg', '.jpeg', '.png')):\n",
        "        try:\n",
        "            path = os.path.join(image_folder, fname)\n",
        "            img = Image.open(path)\n",
        "            img = img.convert(\"RGB\")  # Ensure all images are RGB\n",
        "            img.save(path)  # Overwrite\n",
        "        except Exception as e:\n",
        "            print(f\"❌ Skipped corrupt file: {fname} ({e})\")\n",
        "\n",
        "print(\"✅ Image format normalization complete.\")\n"
      ],
      "metadata": {
        "colab": {
          "base_uri": "https://localhost:8080/"
        },
        "id": "reFcGhwjSPmP",
        "outputId": "15ff9549-72b9-4b12-9753-8b9804499622"
      },
      "execution_count": 11,
      "outputs": [
        {
          "output_type": "stream",
          "name": "stdout",
          "text": [
            "✅ Image format normalization complete.\n"
          ]
        }
      ]
    },
    {
      "cell_type": "markdown",
      "source": [
        "**Resize Images to 224×224**"
      ],
      "metadata": {
        "id": "pgNpnC_MSZ0I"
      }
    },
    {
      "cell_type": "code",
      "source": [
        "target_size = (224, 224)\n",
        "\n",
        "for fname in os.listdir(image_folder):\n",
        "    if fname.lower().endswith(('.jpg', '.jpeg', '.png')):\n",
        "        path = os.path.join(image_folder, fname)\n",
        "        img = Image.open(path).convert(\"RGB\")\n",
        "        img = img.resize(target_size)\n",
        "        img.save(path)\n",
        "\n",
        "print(\"✅ Resizing complete.\")\n"
      ],
      "metadata": {
        "colab": {
          "base_uri": "https://localhost:8080/"
        },
        "id": "8s5auLa4Seso",
        "outputId": "442fe9f6-410e-431c-bade-effc6168b88b"
      },
      "execution_count": 12,
      "outputs": [
        {
          "output_type": "stream",
          "name": "stdout",
          "text": [
            "✅ Resizing complete.\n"
          ]
        }
      ]
    },
    {
      "cell_type": "markdown",
      "source": [
        "**Train/Test Split (80%/20%)t**"
      ],
      "metadata": {
        "id": "VLgzvZk7SiaO"
      }
    },
    {
      "cell_type": "code",
      "source": [
        "import shutil\n",
        "import random\n",
        "\n",
        "# Create folders\n",
        "train_dir = \"/content/udhaya_split/train\"\n",
        "test_dir = \"/content/udhaya_split/test\"\n",
        "os.makedirs(train_dir, exist_ok=True)\n",
        "os.makedirs(test_dir, exist_ok=True)\n",
        "\n",
        "# Shuffle and split\n",
        "all_images = [f for f in os.listdir(image_folder) if f.lower().endswith(('.jpg', '.jpeg', '.png'))]\n",
        "random.shuffle(all_images)\n",
        "\n",
        "split_idx = int(0.8 * len(all_images))\n",
        "train_imgs = all_images[:split_idx]\n",
        "test_imgs = all_images[split_idx:]\n",
        "\n",
        "# Copy files\n",
        "for f in train_imgs:\n",
        "    shutil.copy(os.path.join(image_folder, f), os.path.join(train_dir, f))\n",
        "for f in test_imgs:\n",
        "    shutil.copy(os.path.join(image_folder, f), os.path.join(test_dir, f))\n",
        "\n",
        "print(f\"✅ Train/Test split complete. {len(train_imgs)} train, {len(test_imgs)} test\")\n"
      ],
      "metadata": {
        "colab": {
          "base_uri": "https://localhost:8080/"
        },
        "id": "gIkLALGRSghG",
        "outputId": "75be283e-b747-428d-9148-89136db712df"
      },
      "execution_count": 13,
      "outputs": [
        {
          "output_type": "stream",
          "name": "stdout",
          "text": [
            "✅ Train/Test split complete. 400 train, 100 test\n"
          ]
        }
      ]
    },
    {
      "cell_type": "markdown",
      "source": [
        "**Convert to NumPy Arrays**"
      ],
      "metadata": {
        "id": "FGY8KLtkSqR0"
      }
    },
    {
      "cell_type": "code",
      "source": [
        "import numpy as np\n",
        "\n",
        "X_train = []\n",
        "\n",
        "for fname in os.listdir(train_dir):\n",
        "    path = os.path.join(train_dir, fname)\n",
        "    img = Image.open(path).resize((224, 224))\n",
        "    img_array = np.array(img)\n",
        "    X_train.append(img_array)\n",
        "\n",
        "X_train = np.array(X_train)\n",
        "print(\"✅ Converted train images to NumPy array. Shape:\", X_train.shape)\n"
      ],
      "metadata": {
        "colab": {
          "base_uri": "https://localhost:8080/"
        },
        "id": "AQFzSYLySwea",
        "outputId": "be6bb682-7eb7-4001-ba06-ffa362df33cb"
      },
      "execution_count": 14,
      "outputs": [
        {
          "output_type": "stream",
          "name": "stdout",
          "text": [
            "✅ Converted train images to NumPy array. Shape: (400, 224, 224, 3)\n"
          ]
        }
      ]
    },
    {
      "cell_type": "markdown",
      "source": [
        "**Importing Essential Libraries For Further Processing**"
      ],
      "metadata": {
        "id": "n5JbRS2ujdEI"
      }
    },
    {
      "cell_type": "code",
      "source": [
        "import os\n",
        "from PIL import Image\n",
        "import numpy as np\n",
        "from torchvision import transforms\n"
      ],
      "metadata": {
        "id": "JiufoFknjv2o"
      },
      "execution_count": 15,
      "outputs": []
    },
    {
      "cell_type": "markdown",
      "source": [
        "**Defining Image and Segmentation Directories**"
      ],
      "metadata": {
        "id": "uOIVxP8Jj0nR"
      }
    },
    {
      "cell_type": "code",
      "source": [
        "image_dir = \"/root/.cache/kagglehub/datasets/gopalbhattrai/pascal-voc-2012-dataset/versions/1/VOC2012_train_val/VOC2012_train_val/JPEGImages\"\n",
        "mask_dir = \"/root/.cache/kagglehub/datasets/gopalbhattrai/pascal-voc-2012-dataset/versions/1/VOC2012_train_val/VOC2012_train_val/SegmentationClass\"\n"
      ],
      "metadata": {
        "id": "jI58uVXyj8LN"
      },
      "execution_count": 16,
      "outputs": []
    },
    {
      "cell_type": "markdown",
      "source": [
        "**Defining Preprocessing Functions**"
      ],
      "metadata": {
        "id": "3WgxqOKej92C"
      }
    },
    {
      "cell_type": "code",
      "source": [
        "def preprocess_image(image_path, size=(224, 224)):\n",
        "    img = Image.open(image_path).convert(\"RGB\")\n",
        "    img = img.resize(size)\n",
        "    img = np.array(img) / 255.0\n",
        "    return img\n",
        "\n",
        "def preprocess_mask(mask_path, size=(224, 224)):\n",
        "    mask = Image.open(mask_path).resize(size)\n",
        "    return np.array(mask)\n",
        "\n",
        "def get_image_mask_pairs(img_dir, mask_dir):\n",
        "    pairs = []\n",
        "    for fname in os.listdir(img_dir):\n",
        "        if fname.endswith(\".jpg\"):\n",
        "            image_path = os.path.join(img_dir, fname)\n",
        "            mask_path = os.path.join(mask_dir, fname.replace(\".jpg\", \".png\"))\n",
        "            if os.path.exists(mask_path):\n",
        "                pairs.append((image_path, mask_path))\n",
        "    return pairs\n"
      ],
      "metadata": {
        "id": "lKLrPbzkkPIn"
      },
      "execution_count": 17,
      "outputs": []
    },
    {
      "cell_type": "markdown",
      "source": [
        "**Preprocess a small batch for testing**"
      ],
      "metadata": {
        "id": "VPID-r8Blhwo"
      }
    },
    {
      "cell_type": "code",
      "source": [
        "pairs = get_image_mask_pairs(image_dir, mask_dir)\n",
        "print(f\"Total image-mask pairs: {len(pairs)}\")\n",
        "\n",
        "# Preprocess and display a sample\n",
        "sample_img_path, sample_mask_path = pairs[0]\n",
        "image = preprocess_image(sample_img_path)\n",
        "mask = preprocess_mask(sample_mask_path)\n",
        "\n",
        "print(\"Image shape:\", image.shape)\n",
        "print(\"Mask shape:\", mask.shape)\n",
        "\n",
        "import matplotlib.pyplot as plt\n",
        "\n",
        "plt.subplot(1,2,1)\n",
        "plt.imshow(image)\n",
        "plt.title(\"Preprocessed Image\")\n",
        "\n",
        "plt.subplot(1,2,2)\n",
        "plt.imshow(mask)\n",
        "plt.title(\"Segmentation Mask\")\n",
        "plt.show()\n"
      ],
      "metadata": {
        "colab": {
          "base_uri": "https://localhost:8080/",
          "height": 360
        },
        "id": "h7T_eWDyljyM",
        "outputId": "62e99de4-8766-4821-894a-4ddac58bdc7d"
      },
      "execution_count": 18,
      "outputs": [
        {
          "output_type": "stream",
          "name": "stdout",
          "text": [
            "Total image-mask pairs: 2913\n",
            "Image shape: (224, 224, 3)\n",
            "Mask shape: (224, 224)\n"
          ]
        },
        {
          "output_type": "display_data",
          "data": {
            "text/plain": [
              "<Figure size 640x480 with 2 Axes>"
            ],
            "image/png": "[encoded data removed]"
          },
          "metadata": {}
        }
      ]
    },
    {
      "cell_type": "markdown",
      "source": [
        "**Batch Preprocessing and Saving**"
      ],
      "metadata": {
        "id": "tuDgaPMUmn6o"
      }
    },
    {
      "cell_type": "code",
      "source": [
        "X_images = []\n",
        "Y_masks = []\n",
        "\n",
        "for img_path, mask_path in pairs:\n",
        "    img = preprocess_image(img_path)\n",
        "    mask = preprocess_mask(mask_path)\n",
        "\n",
        "    X_images.append(img)\n",
        "    Y_masks.append(mask)\n",
        "\n",
        "# Convert to numpy arrays\n",
        "X_images = np.array(X_images)\n",
        "Y_masks = np.array(Y_masks)\n",
        "\n",
        "# Save to disk\n",
        "np.save(\"preprocessed_images.npy\", X_images)\n",
        "np.save(\"preprocessed_masks.npy\", Y_masks)\n",
        "\n",
        "print(\"✅ All images and masks preprocessed and saved.\")\n"
      ],
      "metadata": {
        "colab": {
          "base_uri": "https://localhost:8080/"
        },
        "id": "MqfF6goPmpu7",
        "outputId": "dbe51a1b-7d0f-44ad-c35a-5b21df2cf982"
      },
      "execution_count": 19,
      "outputs": [
        {
          "output_type": "stream",
          "name": "stdout",
          "text": [
            "✅ All images and masks preprocessed and saved.\n"
          ]
        }
      ]
    },
    {
      "cell_type": "markdown",
      "source": [
        "**Augmentation**"
      ],
      "metadata": {
        "id": "41N4f4Q6nX2B"
      }
    },
    {
      "cell_type": "code",
      "source": [
        "transform = transforms.Compose([\n",
        "    transforms.RandomHorizontalFlip(),\n",
        "    transforms.RandomRotation(10),\n",
        "    transforms.ToTensor()\n",
        "])\n"
      ],
      "metadata": {
        "id": "9XMtfiK3ncLY"
      },
      "execution_count": 20,
      "outputs": []
    },
    {
      "cell_type": "markdown",
      "source": [
        "**Split into Train & Test**"
      ],
      "metadata": {
        "id": "K6Qt0qMVnfTK"
      }
    },
    {
      "cell_type": "code",
      "source": [
        "from sklearn.model_selection import train_test_split\n",
        "\n",
        "X_train, X_test, Y_train, Y_test = train_test_split(\n",
        "    X_images, Y_masks, test_size=0.2, random_state=42\n",
        ")\n"
      ],
      "metadata": {
        "id": "zxyiyEdjnixV"
      },
      "execution_count": 21,
      "outputs": []
    },
    {
      "cell_type": "code",
      "source": [
        "# Save train-test split arrays\n",
        "np.save(\"X_train.npy\", X_train)\n",
        "np.save(\"X_test.npy\", X_test)\n",
        "np.save(\"Y_train.npy\", Y_train)\n",
        "np.save(\"Y_test.npy\", Y_test)\n",
        "\n",
        "print(\"✅ Train and test splits saved as .npy files.\")\n"
      ],
      "metadata": {
        "colab": {
          "base_uri": "https://localhost:8080/"
        },
        "id": "AEwg0A9Wtt0S",
        "outputId": "be04c9a7-80bb-4699-9e06-3fc9855a8af1"
      },
      "execution_count": 22,
      "outputs": [
        {
          "output_type": "stream",
          "name": "stdout",
          "text": [
            "✅ Train and test splits saved as .npy files.\n"
          ]
        }
      ]
    },
    {
      "cell_type": "code",
      "source": [
        "import zipfile\n",
        "\n",
        "# Create a ZIP archive of all 4 arrays\n",
        "with zipfile.ZipFile(\"segmentation_split_data.zip\", \"w\") as zipf:\n",
        "    zipf.write(\"X_train.npy\")\n",
        "    zipf.write(\"X_test.npy\")\n",
        "    zipf.write(\"Y_train.npy\")\n",
        "    zipf.write(\"Y_test.npy\")\n",
        "\n",
        "print(\"📦 Zipped all split .npy files.\")\n"
      ],
      "metadata": {
        "colab": {
          "base_uri": "https://localhost:8080/"
        },
        "id": "dsRSm1u1vtuO",
        "outputId": "56f37016-3a06-4608-b9af-563b5c579b09"
      },
      "execution_count": 23,
      "outputs": [
        {
          "output_type": "stream",
          "name": "stdout",
          "text": [
            "📦 Zipped all split .npy files.\n"
          ]
        }
      ]
    },
    {
      "cell_type": "code",
      "source": [
        "from google.colab import files\n",
        "files.download(\"segmentation_split_data.zip\")\n"
      ],
      "metadata": {
        "colab": {
          "base_uri": "https://localhost:8080/",
          "height": 17
        },
        "id": "Ek8y_YdR5yi2",
        "outputId": "74654d4a-3f30-4e93-9299-b516d950ccb9"
      },
      "execution_count": 24,
      "outputs": [
        {
          "output_type": "display_data",
          "data": {
            "text/plain": [
              "<IPython.core.display.Javascript object>"
            ],
            "application/javascript": [
              "\n",
              "    async function download(id, filename, size) {\n",
              "      if (!google.colab.kernel.accessAllowed) {\n",
              "        return;\n",
              "      }\n",
              "      const div = document.createElement('div');\n",
              "      const label = document.createElement('label');\n",
              "      label.textContent = `Downloading \"${filename}\": `;\n",
              "      div.appendChild(label);\n",
              "      const progress = document.createElement('progress');\n",
              "      progress.max = size;\n",
              "      div.appendChild(progress);\n",
              "      document.body.appendChild(div);\n",
              "\n",
              "      const buffers = [];\n",
              "      let downloaded = 0;\n",
              "\n",
              "      const channel = await google.colab.kernel.comms.open(id);\n",
              "      // Send a message to notify the kernel that we're ready.\n",
              "      channel.send({})\n",
              "\n",
              "      for await (const message of channel.messages) {\n",
              "        // Send a message to notify the kernel that we're ready.\n",
              "        channel.send({})\n",
              "        if (message.buffers) {\n",
              "          for (const buffer of message.buffers) {\n",
              "            buffers.push(buffer);\n",
              "            downloaded += buffer.byteLength;\n",
              "            progress.value = downloaded;\n",
              "          }\n",
              "        }\n",
              "      }\n",
              "      const blob = new Blob(buffers, {type: 'application/binary'});\n",
              "      const a = document.createElement('a');\n",
              "      a.href = window.URL.createObjectURL(blob);\n",
              "      a.download = filename;\n",
              "      div.appendChild(a);\n",
              "      a.click();\n",
              "      div.remove();\n",
              "    }\n",
              "  "
            ]
          },
          "metadata": {}
        },
        {
          "output_type": "display_data",
          "data": {
            "text/plain": [
              "<IPython.core.display.Javascript object>"
            ],
            "application/javascript": [
              "download(\"download_504f3410-09b4-440a-a34a-4a93c261bb52\", \"segmentation_split_data.zip\", 3654068274)"
            ]
          },
          "metadata": {}
        }
      ]
    }
  ]
}